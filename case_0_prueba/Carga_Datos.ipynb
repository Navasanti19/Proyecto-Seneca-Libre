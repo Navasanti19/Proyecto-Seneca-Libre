{
 "cells": [
  {
   "cell_type": "markdown",
   "metadata": {},
   "source": [
    "# CARGA DE DATOS (MATRICES DISTANCIA Y TIEMPO)\n"
   ]
  },
  {
   "cell_type": "markdown",
   "metadata": {},
   "source": [
    "## Distancias y tiempos terrestres\n"
   ]
  },
  {
   "cell_type": "code",
   "execution_count": 2,
   "metadata": {},
   "outputs": [],
   "source": [
    "# load archivos to dataframes\n",
    "import pandas as pd\n",
    "import numpy as np\n",
    "import requests\n",
    "\n",
    "# Load the depots and clients data\n",
    "depots_df = pd.read_csv('data/Depots.csv')\n",
    "clients_df = pd.read_csv('data/Clients.csv')\n",
    "\n",
    "# extract coordinates\n",
    "depots_coords = depots_df[['Longitude', 'Latitude']].values.tolist()\n",
    "clients_coords = clients_df[['Longitude', 'Latitude']].values.tolist()\n",
    "\n",
    "# Combine depots and clients\n",
    "all_coords = depots_coords + clients_coords\n",
    "\n",
    "\n",
    "# Build the coordinates string for OSRM\n",
    "coords_str = ';'.join([f\"{lon},{lat}\" for lon, lat in all_coords])\n",
    "# API URL\n",
    "url = f\"https://router.project-osrm.org/table/v1/driving/{coords_str}\"\n",
    "\n",
    "# Parameters\n",
    "params = {\n",
    "    'sources': ';'.join(map(str, range(len(all_coords)))),\n",
    "    'destinations': ';'.join(map(str, range(len(all_coords)))),\n",
    "    'annotations': 'duration,distance'\n",
    "}\n",
    "\n",
    "# Send the request\n",
    "response = requests.get(url, params=params)\n",
    "\n",
    "# Check for successful response\n",
    "if response.status_code != 200:\n",
    "    print(f\"Error: {response.status_code}\")\n",
    "    print(response.text)\n",
    "    exit()\n",
    "\n",
    "data = response.json()\n",
    "\n",
    "# Extract the distance matrix\n",
    "distance_matrix = np.array(data['distances'])\n",
    "\n",
    "# Extract the duration matrix\n",
    "duration_matrix = np.array(data['durations'])\n",
    "\n",
    "depot_labels = [f\"D{i+1}\" for i in range(len(depots_coords))]\n",
    "client_labels = [f\"C{i+1}\" for i in range(len(clients_coords))]\n",
    "all_labels = depot_labels + client_labels\n",
    "\n",
    "# Convertir las matrices en DataFrames con etiquetas\n",
    "distance_df = pd.DataFrame(distance_matrix, index=all_labels, columns=all_labels)\n",
    "duration_df = pd.DataFrame(duration_matrix, index=all_labels, columns=all_labels)\n",
    "\n",
    "# Guardar las matrices en archivos CSV\n",
    "distance_df.to_csv('data/distance_matrix.csv')\n",
    "duration_df.to_csv('data/duration_matrix.csv')\n"
   ]
  },
  {
   "cell_type": "markdown",
   "metadata": {},
   "source": [
    "## Distancias y Tiempos aereos\n"
   ]
  },
  {
   "cell_type": "code",
   "execution_count": 1,
   "metadata": {},
   "outputs": [
    {
     "name": "stdout",
     "output_type": "stream",
     "text": [
      "Matriz de distancias haversianas guardada como 'distance_matrix.csv'.\n"
     ]
    }
   ],
   "source": [
    "import pandas as pd\n",
    "import numpy as np\n",
    "from math import radians, sin, cos, sqrt, atan2\n",
    "\n",
    "# Función para calcular la distancia haversiana\n",
    "def haversine(coord1, coord2):\n",
    "    # Coordenadas en radianes\n",
    "    lon1, lat1 = radians(coord1[0]), radians(coord1[1])\n",
    "    lon2, lat2 = radians(coord2[0]), radians(coord2[1])\n",
    "\n",
    "    # Fórmula haversiana\n",
    "    dlon = lon2 - lon1\n",
    "    dlat = lat2 - lat1\n",
    "    a = sin(dlat / 2)**2 + cos(lat1) * cos(lat2) * sin(dlon / 2)**2\n",
    "    c = 2 * atan2(sqrt(a), sqrt(1 - a))\n",
    "\n",
    "    # Radio de la Tierra en kilómetros\n",
    "    R = 6371.0\n",
    "    return R * c\n",
    "\n",
    "# Cargar datos\n",
    "depots_df = pd.read_csv('data/Depots.csv')\n",
    "clients_df = pd.read_csv('data/Clients.csv')\n",
    "\n",
    "# Extraer coordenadas\n",
    "depots_coords = depots_df[['Longitude', 'Latitude']].values.tolist()\n",
    "clients_coords = clients_df[['Longitude', 'Latitude']].values.tolist()\n",
    "\n",
    "# Combinar coordenadas de depósitos y clientes\n",
    "all_coords = depots_coords + clients_coords\n",
    "\n",
    "# Crear la matriz de distancias haversianas\n",
    "n = len(all_coords)\n",
    "distance_matrix = np.zeros((n, n))\n",
    "\n",
    "for i in range(n):\n",
    "    for j in range(n):\n",
    "        distance_matrix[i, j] = haversine(all_coords[i], all_coords[j])\n",
    "\n",
    "# Etiquetas para filas y columnas\n",
    "depot_labels = [f\"D{i+1}\" for i in range(len(depots_coords))]\n",
    "client_labels = [f\"C{i+1}\" for i in range(len(clients_coords))]\n",
    "all_labels = depot_labels + client_labels\n",
    "\n",
    "# Convertir la matriz en un DataFrame con etiquetas\n",
    "distance_df = pd.DataFrame(distance_matrix, index=all_labels, columns=all_labels)\n",
    "\n",
    "# Guardar la matriz en un archivo CSV\n",
    "distance_df.to_csv('data/distance_dron_matrix.csv')\n",
    "\n",
    "print(\"Matriz de distancias haversianas guardada como 'distance_matrix.csv'.\")\n"
   ]
  }
 ],
 "metadata": {
  "kernelspec": {
   "display_name": "base",
   "language": "python",
   "name": "python3"
  },
  "language_info": {
   "codemirror_mode": {
    "name": "ipython",
    "version": 3
   },
   "file_extension": ".py",
   "mimetype": "text/x-python",
   "name": "python",
   "nbconvert_exporter": "python",
   "pygments_lexer": "ipython3",
   "version": "3.9.19"
  }
 },
 "nbformat": 4,
 "nbformat_minor": 2
}
