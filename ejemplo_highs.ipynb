{
 "cells": [
  {
   "cell_type": "code",
   "execution_count": 1,
   "metadata": {},
   "outputs": [
    {
     "name": "stdout",
     "output_type": "stream",
     "text": [
      "Running HiGHS 1.8.1 (git hash: 4a7f24a): Copyright (c) 2024 HiGHS under MIT licence terms\n",
      "Coefficient ranges:\n",
      "  Matrix [1e+00, 3e+00]\n",
      "  Cost   [1e+00, 1e+00]\n",
      "  Bound  [0e+00, 0e+00]\n",
      "  RHS    [1e+00, 2e+00]\n",
      "Presolving model\n",
      "3 rows, 2 cols, 6 nonzeros  0s\n",
      "3 rows, 2 cols, 6 nonzeros  0s\n",
      "Presolve : Reductions: rows 3(-0); columns 2(-0); elements 6(-0) - Not reduced\n",
      "Problem not reduced by presolve: solving the LP\n",
      "Using EKK dual simplex solver - serial\n",
      "  Iteration        Objective     Infeasibilities num(sum)\n",
      "          0     0.0000000000e+00 Pr: 2(4) 0s\n",
      "          2     2.0000000000e+00 Pr: 0(0) 0s\n",
      "Model status        : Optimal\n",
      "Simplex   iterations: 2\n",
      "Objective value     :  2.0000000000e+00\n",
      "Relative P-D gap    :  0.0000000000e+00\n",
      "HiGHS run time      :          0.01\n",
      "Model unknown\n",
      "\n",
      "  Variables:\n",
      "    x : Size=1, Index=None\n",
      "        Key  : Lower : Value : Upper : Fixed : Stale : Domain\n",
      "        None :     0 :   0.5 :  None : False : False : NonNegativeReals\n",
      "    y : Size=1, Index=None\n",
      "        Key  : Lower : Value : Upper : Fixed : Stale : Domain\n",
      "        None :     0 :   1.5 :  None : False : False : NonNegativeReals\n",
      "\n",
      "  Objectives:\n",
      "    obj : Size=1, Index=None, Active=True\n",
      "        Key  : Active : Value\n",
      "        None :   True :   2.0\n",
      "\n",
      "  Constraints:\n",
      "    C1 : Size=1\n",
      "        Key  : Lower : Body : Upper\n",
      "        None :  None :  1.0 :   1.0\n",
      "    C2 : Size=1\n",
      "        Key  : Lower : Body : Upper\n",
      "        None :   2.0 :  2.0 :  None\n",
      "    C3 : Size=1\n",
      "        Key  : Lower : Body : Upper\n",
      "        None :   2.0 :  5.0 :  None\n"
     ]
    }
   ],
   "source": [
    "from pyomo.environ import *\n",
    "from pyomo.opt import SolverFactory\n",
    "from highspy import Highs\n",
    "\n",
    "# Define a simple optimization model\n",
    "model = ConcreteModel()\n",
    "model.x = Var(within=NonNegativeReals)\n",
    "model.y = Var(within=NonNegativeReals)\n",
    "\n",
    "model.C1 = Constraint(expr= -model.x + model.y <= 1)\n",
    "model.C2 = Constraint(expr= model.x + model.y >= 2)\n",
    "model.C3 = Constraint(expr= model.x + 3*model.y >= 2)\n",
    "\n",
    "model.obj = Objective(expr= model.x + model.y, sense=minimize)\n",
    "\n",
    "# Solve using appsi_highs\n",
    "solver_name = 'appsi_highs'\n",
    "\n",
    "solver = SolverFactory(solver_name)\n",
    "solver.options['time_limit'] = 3600  # 1-hour time limit\n",
    "solver.options['mip_rel_gap'] = 0.05  # 5% relative gap\n",
    "result = solver.solve(model, tee=True)\n",
    "\n",
    "model.display()"
   ]
  }
 ],
 "metadata": {
  "kernelspec": {
   "display_name": "base",
   "language": "python",
   "name": "python3"
  },
  "language_info": {
   "codemirror_mode": {
    "name": "ipython",
    "version": 3
   },
   "file_extension": ".py",
   "mimetype": "text/x-python",
   "name": "python",
   "nbconvert_exporter": "python",
   "pygments_lexer": "ipython3",
   "version": "3.9.19"
  }
 },
 "nbformat": 4,
 "nbformat_minor": 2
}
